{
 "cells": [
  {
   "cell_type": "code",
   "execution_count": 1,
   "metadata": {},
   "outputs": [],
   "source": [
    "%matplotlib inline\n",
    "\n",
    "from Bio.Seq import Seq\n",
    "from Bio import SeqIO\n",
    "from Bio.Alphabet import IUPAC\n",
    "import pandas as pd\n",
    "import numpy as np\n",
    "#import scikitlearn as sk\n",
    "\n",
    "import matplotlib.pyplot as plt\n",
    "import seaborn as sns; sns.set()\n",
    "\n",
    "from sklearn.ensemble import RandomForestClassifier"
   ]
  },
  {
   "cell_type": "code",
   "execution_count": 2,
   "metadata": {},
   "outputs": [],
   "source": [
    "clf = RandomForestClassifier(n_estimators=10, random_state=0, oob_score=True)"
   ]
  },
  {
   "cell_type": "markdown",
   "metadata": {},
   "source": [
    "# Importar dados\n",
    "Importa os dados do arquivo \".fasta\" e coloca em um `pd.DataFrame`.\n",
    "\n",
    "Cada linha é uma amostra sequenciada.\n",
    "\n",
    "Cada coluna (atributo) é uma posição na sequência genética com sua respectica base (acgt)."
   ]
  },
  {
   "cell_type": "code",
   "execution_count": 2,
   "metadata": {},
   "outputs": [
    {
     "data": {
      "text/html": [
       "<div>\n",
       "<style scoped>\n",
       "    .dataframe tbody tr th:only-of-type {\n",
       "        vertical-align: middle;\n",
       "    }\n",
       "\n",
       "    .dataframe tbody tr th {\n",
       "        vertical-align: top;\n",
       "    }\n",
       "\n",
       "    .dataframe thead th {\n",
       "        text-align: right;\n",
       "    }\n",
       "</style>\n",
       "<table border=\"1\" class=\"dataframe\">\n",
       "  <thead>\n",
       "    <tr style=\"text-align: right;\">\n",
       "      <th></th>\n",
       "      <th>0</th>\n",
       "      <th>1</th>\n",
       "      <th>2</th>\n",
       "      <th>3</th>\n",
       "      <th>4</th>\n",
       "      <th>5</th>\n",
       "      <th>6</th>\n",
       "      <th>7</th>\n",
       "      <th>8</th>\n",
       "      <th>9</th>\n",
       "      <th>...</th>\n",
       "      <th>49</th>\n",
       "      <th>50</th>\n",
       "      <th>51</th>\n",
       "      <th>52</th>\n",
       "      <th>53</th>\n",
       "      <th>54</th>\n",
       "      <th>55</th>\n",
       "      <th>56</th>\n",
       "      <th>57</th>\n",
       "      <th>58</th>\n",
       "    </tr>\n",
       "  </thead>\n",
       "  <tbody>\n",
       "    <tr>\n",
       "      <th>KX377336</th>\n",
       "      <td>c</td>\n",
       "      <td>c</td>\n",
       "      <td>g</td>\n",
       "      <td>g</td>\n",
       "      <td>c</td>\n",
       "      <td>a</td>\n",
       "      <td>t</td>\n",
       "      <td>a</td>\n",
       "      <td>c</td>\n",
       "      <td>a</td>\n",
       "      <td>...</td>\n",
       "      <td>a</td>\n",
       "      <td>a</td>\n",
       "      <td>g</td>\n",
       "      <td>g</td>\n",
       "      <td>t</td>\n",
       "      <td>a</td>\n",
       "      <td>t</td>\n",
       "      <td>g</td>\n",
       "      <td>t</td>\n",
       "      <td>c</td>\n",
       "    </tr>\n",
       "    <tr>\n",
       "      <th>KX694533</th>\n",
       "      <td>c</td>\n",
       "      <td>c</td>\n",
       "      <td>g</td>\n",
       "      <td>g</td>\n",
       "      <td>c</td>\n",
       "      <td>a</td>\n",
       "      <td>t</td>\n",
       "      <td>a</td>\n",
       "      <td>c</td>\n",
       "      <td>a</td>\n",
       "      <td>...</td>\n",
       "      <td>a</td>\n",
       "      <td>a</td>\n",
       "      <td>g</td>\n",
       "      <td>g</td>\n",
       "      <td>t</td>\n",
       "      <td>a</td>\n",
       "      <td>t</td>\n",
       "      <td>g</td>\n",
       "      <td>t</td>\n",
       "      <td>c</td>\n",
       "    </tr>\n",
       "    <tr>\n",
       "      <th>HQ234499</th>\n",
       "      <td>c</td>\n",
       "      <td>c</td>\n",
       "      <td>g</td>\n",
       "      <td>g</td>\n",
       "      <td>c</td>\n",
       "      <td>a</td>\n",
       "      <td>t</td>\n",
       "      <td>a</td>\n",
       "      <td>c</td>\n",
       "      <td>a</td>\n",
       "      <td>...</td>\n",
       "      <td>a</td>\n",
       "      <td>a</td>\n",
       "      <td>g</td>\n",
       "      <td>g</td>\n",
       "      <td>t</td>\n",
       "      <td>a</td>\n",
       "      <td>t</td>\n",
       "      <td>g</td>\n",
       "      <td>t</td>\n",
       "      <td>c</td>\n",
       "    </tr>\n",
       "    <tr>\n",
       "      <th>KX601167</th>\n",
       "      <td>c</td>\n",
       "      <td>c</td>\n",
       "      <td>g</td>\n",
       "      <td>g</td>\n",
       "      <td>c</td>\n",
       "      <td>a</td>\n",
       "      <td>t</td>\n",
       "      <td>a</td>\n",
       "      <td>c</td>\n",
       "      <td>a</td>\n",
       "      <td>...</td>\n",
       "      <td>a</td>\n",
       "      <td>a</td>\n",
       "      <td>g</td>\n",
       "      <td>g</td>\n",
       "      <td>t</td>\n",
       "      <td>a</td>\n",
       "      <td>t</td>\n",
       "      <td>g</td>\n",
       "      <td>t</td>\n",
       "      <td>c</td>\n",
       "    </tr>\n",
       "    <tr>\n",
       "      <th>MF801404</th>\n",
       "      <td>c</td>\n",
       "      <td>c</td>\n",
       "      <td>g</td>\n",
       "      <td>g</td>\n",
       "      <td>c</td>\n",
       "      <td>a</td>\n",
       "      <td>t</td>\n",
       "      <td>a</td>\n",
       "      <td>c</td>\n",
       "      <td>a</td>\n",
       "      <td>...</td>\n",
       "      <td>a</td>\n",
       "      <td>a</td>\n",
       "      <td>g</td>\n",
       "      <td>g</td>\n",
       "      <td>t</td>\n",
       "      <td>a</td>\n",
       "      <td>t</td>\n",
       "      <td>g</td>\n",
       "      <td>t</td>\n",
       "      <td>c</td>\n",
       "    </tr>\n",
       "  </tbody>\n",
       "</table>\n",
       "<p>5 rows × 59 columns</p>\n",
       "</div>"
      ],
      "text/plain": [
       "         0  1  2  3  4  5  6  7  8  9   ... 49 50 51 52 53 54 55 56 57 58\n",
       "KX377336  c  c  g  g  c  a  t  a  c  a  ...  a  a  g  g  t  a  t  g  t  c\n",
       "KX694533  c  c  g  g  c  a  t  a  c  a  ...  a  a  g  g  t  a  t  g  t  c\n",
       "HQ234499  c  c  g  g  c  a  t  a  c  a  ...  a  a  g  g  t  a  t  g  t  c\n",
       "KX601167  c  c  g  g  c  a  t  a  c  a  ...  a  a  g  g  t  a  t  g  t  c\n",
       "MF801404  c  c  g  g  c  a  t  a  c  a  ...  a  a  g  g  t  a  t  g  t  c\n",
       "\n",
       "[5 rows x 59 columns]"
      ]
     },
     "execution_count": 2,
     "metadata": {},
     "output_type": "execute_result"
    }
   ],
   "source": [
    "identifiers = [seq_record.id for seq_record in SeqIO.parse(\"toy_ZIKV.fasta\", \"fasta\")]\n",
    "seqs = np.array([list(str(seq_rec.seq)) for seq_rec in SeqIO.parse(\"toy_ZIKV.fasta\", \"fasta\")])\n",
    "#print(seqs)\n",
    "\n",
    "df = pd.DataFrame(seqs, index=identifiers)\n",
    "df.head()"
   ]
  },
  {
   "cell_type": "markdown",
   "metadata": {},
   "source": [
    "# Vetor de \"classes\"\n",
    "Criar o vetor `Y` contendo as classes associadas a cada amostra. \n",
    "\n",
    "- 1: Amostras Americanas\n",
    "- 0: Amostras Africanas"
   ]
  },
  {
   "cell_type": "code",
   "execution_count": 3,
   "metadata": {},
   "outputs": [
    {
     "name": "stdout",
     "output_type": "stream",
     "text": [
      "[1. 1. 1. 1. 1. 1. 1. 1. 1. 1. 0. 0. 0. 0. 0. 0. 0. 0. 0. 0. 0. 0.]\n"
     ]
    }
   ],
   "source": [
    "Y = np.zeros(22)\n",
    "Y[0:10]=1\n",
    "print(Y)\n",
    "#print(Y.shape)\n",
    "#print(df.shape)"
   ]
  },
  {
   "cell_type": "markdown",
   "metadata": {},
   "source": [
    "# One-Hot Encoding\n",
    "Aplicar o \"one-hot encoding\" para tratar os dados.\n",
    "\n",
    "Como os dados genômicos são categóricos (ACGT), devem ser preparados de forma que fiquem adequados ao algoritmo de machine learning.\n",
    "\n",
    "O método abaixo `pd.get_dummies(df)` transforma cada coluna com atributos categóricos (com \"c\" categorias, no nosso caso 4 categorias, ACGT) em \"c\" colunas contendo 0 em todas posições, exceto na posição correspondente ao valor presente naquele atributo.\n",
    "\n",
    "Assim:\n",
    "\n",
    "|sample|base1|base2|\n",
    "|------|-----|-----|\n",
    "|s_1   |A    |T    |\n",
    "|s_2   |A    |G    |\n",
    "|s_3   |C    |T    |\n",
    "\n",
    "Se tornaria:\n",
    "\n",
    "|sample|base1_A|base1_C|base1_G|base1_T|base2_A|base2_C|base2_G|base2_T|\n",
    "|------|-------|-------|-------|-------|-------|-------|-------|-------|\n",
    "|s_1   |1      |0      |0      |0      |0      |0      |0      |1      |\n",
    "|s_2   |1      |0      |0      |0      |0      |0      |1      |0      |\n",
    "|s_3   |0      |1      |0      |0      |0      |0      |0      |1      |"
   ]
  },
  {
   "cell_type": "code",
   "execution_count": 4,
   "metadata": {},
   "outputs": [
    {
     "data": {
      "text/html": [
       "<div>\n",
       "<style scoped>\n",
       "    .dataframe tbody tr th:only-of-type {\n",
       "        vertical-align: middle;\n",
       "    }\n",
       "\n",
       "    .dataframe tbody tr th {\n",
       "        vertical-align: top;\n",
       "    }\n",
       "\n",
       "    .dataframe thead th {\n",
       "        text-align: right;\n",
       "    }\n",
       "</style>\n",
       "<table border=\"1\" class=\"dataframe\">\n",
       "  <thead>\n",
       "    <tr style=\"text-align: right;\">\n",
       "      <th></th>\n",
       "      <th>0_c</th>\n",
       "      <th>1_c</th>\n",
       "      <th>2_g</th>\n",
       "      <th>3_g</th>\n",
       "      <th>4_c</th>\n",
       "      <th>5_a</th>\n",
       "      <th>6_t</th>\n",
       "      <th>7_a</th>\n",
       "      <th>8_c</th>\n",
       "      <th>9_a</th>\n",
       "      <th>...</th>\n",
       "      <th>50_g</th>\n",
       "      <th>51_g</th>\n",
       "      <th>52_g</th>\n",
       "      <th>53_c</th>\n",
       "      <th>53_t</th>\n",
       "      <th>54_a</th>\n",
       "      <th>55_t</th>\n",
       "      <th>56_g</th>\n",
       "      <th>57_t</th>\n",
       "      <th>58_c</th>\n",
       "    </tr>\n",
       "  </thead>\n",
       "  <tbody>\n",
       "    <tr>\n",
       "      <th>KX377336</th>\n",
       "      <td>1</td>\n",
       "      <td>1</td>\n",
       "      <td>1</td>\n",
       "      <td>1</td>\n",
       "      <td>1</td>\n",
       "      <td>1</td>\n",
       "      <td>1</td>\n",
       "      <td>1</td>\n",
       "      <td>1</td>\n",
       "      <td>1</td>\n",
       "      <td>...</td>\n",
       "      <td>0</td>\n",
       "      <td>1</td>\n",
       "      <td>1</td>\n",
       "      <td>0</td>\n",
       "      <td>1</td>\n",
       "      <td>1</td>\n",
       "      <td>1</td>\n",
       "      <td>1</td>\n",
       "      <td>1</td>\n",
       "      <td>1</td>\n",
       "    </tr>\n",
       "    <tr>\n",
       "      <th>KX694533</th>\n",
       "      <td>1</td>\n",
       "      <td>1</td>\n",
       "      <td>1</td>\n",
       "      <td>1</td>\n",
       "      <td>1</td>\n",
       "      <td>1</td>\n",
       "      <td>1</td>\n",
       "      <td>1</td>\n",
       "      <td>1</td>\n",
       "      <td>1</td>\n",
       "      <td>...</td>\n",
       "      <td>0</td>\n",
       "      <td>1</td>\n",
       "      <td>1</td>\n",
       "      <td>0</td>\n",
       "      <td>1</td>\n",
       "      <td>1</td>\n",
       "      <td>1</td>\n",
       "      <td>1</td>\n",
       "      <td>1</td>\n",
       "      <td>1</td>\n",
       "    </tr>\n",
       "    <tr>\n",
       "      <th>HQ234499</th>\n",
       "      <td>1</td>\n",
       "      <td>1</td>\n",
       "      <td>1</td>\n",
       "      <td>1</td>\n",
       "      <td>1</td>\n",
       "      <td>1</td>\n",
       "      <td>1</td>\n",
       "      <td>1</td>\n",
       "      <td>1</td>\n",
       "      <td>1</td>\n",
       "      <td>...</td>\n",
       "      <td>0</td>\n",
       "      <td>1</td>\n",
       "      <td>1</td>\n",
       "      <td>0</td>\n",
       "      <td>1</td>\n",
       "      <td>1</td>\n",
       "      <td>1</td>\n",
       "      <td>1</td>\n",
       "      <td>1</td>\n",
       "      <td>1</td>\n",
       "    </tr>\n",
       "    <tr>\n",
       "      <th>KX601167</th>\n",
       "      <td>1</td>\n",
       "      <td>1</td>\n",
       "      <td>1</td>\n",
       "      <td>1</td>\n",
       "      <td>1</td>\n",
       "      <td>1</td>\n",
       "      <td>1</td>\n",
       "      <td>1</td>\n",
       "      <td>1</td>\n",
       "      <td>1</td>\n",
       "      <td>...</td>\n",
       "      <td>0</td>\n",
       "      <td>1</td>\n",
       "      <td>1</td>\n",
       "      <td>0</td>\n",
       "      <td>1</td>\n",
       "      <td>1</td>\n",
       "      <td>1</td>\n",
       "      <td>1</td>\n",
       "      <td>1</td>\n",
       "      <td>1</td>\n",
       "    </tr>\n",
       "    <tr>\n",
       "      <th>MF801404</th>\n",
       "      <td>1</td>\n",
       "      <td>1</td>\n",
       "      <td>1</td>\n",
       "      <td>1</td>\n",
       "      <td>1</td>\n",
       "      <td>1</td>\n",
       "      <td>1</td>\n",
       "      <td>1</td>\n",
       "      <td>1</td>\n",
       "      <td>1</td>\n",
       "      <td>...</td>\n",
       "      <td>0</td>\n",
       "      <td>1</td>\n",
       "      <td>1</td>\n",
       "      <td>0</td>\n",
       "      <td>1</td>\n",
       "      <td>1</td>\n",
       "      <td>1</td>\n",
       "      <td>1</td>\n",
       "      <td>1</td>\n",
       "      <td>1</td>\n",
       "    </tr>\n",
       "  </tbody>\n",
       "</table>\n",
       "<p>5 rows × 66 columns</p>\n",
       "</div>"
      ],
      "text/plain": [
       "          0_c  1_c  2_g  3_g  4_c  5_a  6_t  7_a  8_c  9_a  ...  50_g  51_g  \\\n",
       "KX377336    1    1    1    1    1    1    1    1    1    1  ...     0     1   \n",
       "KX694533    1    1    1    1    1    1    1    1    1    1  ...     0     1   \n",
       "HQ234499    1    1    1    1    1    1    1    1    1    1  ...     0     1   \n",
       "KX601167    1    1    1    1    1    1    1    1    1    1  ...     0     1   \n",
       "MF801404    1    1    1    1    1    1    1    1    1    1  ...     0     1   \n",
       "\n",
       "          52_g  53_c  53_t  54_a  55_t  56_g  57_t  58_c  \n",
       "KX377336     1     0     1     1     1     1     1     1  \n",
       "KX694533     1     0     1     1     1     1     1     1  \n",
       "HQ234499     1     0     1     1     1     1     1     1  \n",
       "KX601167     1     0     1     1     1     1     1     1  \n",
       "MF801404     1     0     1     1     1     1     1     1  \n",
       "\n",
       "[5 rows x 66 columns]"
      ]
     },
     "execution_count": 4,
     "metadata": {},
     "output_type": "execute_result"
    }
   ],
   "source": [
    "X = pd.get_dummies(df)\n",
    "X.head()"
   ]
  },
  {
   "cell_type": "markdown",
   "metadata": {},
   "source": [
    "# Criar o classificador Random Forest\n",
    "Para esse exemplo, vamos usar uma Random Forest com 100 árvores, fixando o `random state = 0` para reprodutibilidade e marcando o `oob_score = True` para que os dados não utilizados em cada \"bootstrapping\" sejam usados para validação."
   ]
  },
  {
   "cell_type": "code",
   "execution_count": 5,
   "metadata": {},
   "outputs": [],
   "source": [
    "clf = RandomForestClassifier(n_estimators=100, random_state=0, oob_score=True)"
   ]
  },
  {
   "cell_type": "code",
   "execution_count": 6,
   "metadata": {},
   "outputs": [
    {
     "data": {
      "text/plain": [
       "RandomForestClassifier(bootstrap=True, class_weight=None, criterion='gini',\n",
       "            max_depth=None, max_features='auto', max_leaf_nodes=None,\n",
       "            min_impurity_decrease=0.0, min_impurity_split=None,\n",
       "            min_samples_leaf=1, min_samples_split=2,\n",
       "            min_weight_fraction_leaf=0.0, n_estimators=100, n_jobs=None,\n",
       "            oob_score=True, random_state=0, verbose=0, warm_start=False)"
      ]
     },
     "execution_count": 6,
     "metadata": {},
     "output_type": "execute_result"
    }
   ],
   "source": [
    "clf.fit(X, Y)"
   ]
  },
  {
   "cell_type": "markdown",
   "metadata": {},
   "source": [
    "# Feature importance\n",
    "\n",
    "Abaixo está uma lista contendo a \"importância\" de cada um dos atributos.\n",
    "\n",
    "A seguir, um gráfico para ajudar a visualizar. No eixo \"x\" estão os atributos (ou seja, a posição no genoma) e no eixo \"y\" está o valor de importância."
   ]
  },
  {
   "cell_type": "code",
   "execution_count": 7,
   "metadata": {},
   "outputs": [
    {
     "name": "stdout",
     "output_type": "stream",
     "text": [
      "[0.         0.         0.         0.         0.         0.\n",
      " 0.         0.         0.         0.         0.         0.02229469\n",
      " 0.03135349 0.         0.         0.         0.         0.\n",
      " 0.         0.         0.         0.         0.         0.\n",
      " 0.10647059 0.1        0.         0.         0.         0.\n",
      " 0.         0.         0.         0.         0.         0.\n",
      " 0.         0.         0.         0.         0.04307692 0.09\n",
      " 0.         0.         0.00916005 0.0085987  0.         0.\n",
      " 0.13051687 0.10754902 0.         0.         0.         0.\n",
      " 0.         0.11097967 0.06       0.         0.         0.1\n",
      " 0.08       0.         0.         0.         0.         0.        ]\n",
      "\n",
      "\n"
     ]
    }
   ],
   "source": [
    "print(clf.feature_importances_)\n",
    "print(\"\\n\")\n"
   ]
  },
  {
   "cell_type": "code",
   "execution_count": 8,
   "metadata": {},
   "outputs": [
    {
     "data": {
      "text/plain": [
       "(array([11, 12, 24, 25, 40, 41, 44, 45, 48, 49, 55, 56, 59, 60]),)"
      ]
     },
     "execution_count": 8,
     "metadata": {},
     "output_type": "execute_result"
    }
   ],
   "source": [
    "positions = np.where(clf.feature_importances_>0.0)\n",
    "positions"
   ]
  },
  {
   "cell_type": "code",
   "execution_count": 9,
   "metadata": {},
   "outputs": [],
   "source": [
    "x = X.columns\n",
    "y = clf.feature_importances_\n",
    "xaxis = np.where(y > 0.0, 1, 0)"
   ]
  },
  {
   "cell_type": "code",
   "execution_count": 10,
   "metadata": {},
   "outputs": [],
   "source": [
    "def format_func(value, tick_number):\n",
    "    if y[value] > 0.0:\n",
    "        return x[tick_number]\n",
    "    else:\n",
    "        return ''"
   ]
  },
  {
   "cell_type": "code",
   "execution_count": 11,
   "metadata": {},
   "outputs": [
    {
     "data": {
      "image/png": "[encoded data removed]",
      "text/plain": [
       "<Figure size 1200x800 with 1 Axes>"
      ]
     },
     "metadata": {
      "needs_background": "light"
     },
     "output_type": "display_data"
    }
   ],
   "source": [
    "fig, ax = plt.subplots()\n",
    "fig.dpi=200\n",
    "plt.xticks(range(len(xaxis)), xaxis, size=5, rotation='vertical')\n",
    "plt.xlabel(\"Genomic Position\")\n",
    "plt.ylabel(\"Feature Importance\")\n",
    "ax.xaxis.set_major_formatter(plt.FuncFormatter(format_func))\n",
    "plt.ylim(-0.02, 0.14)\n",
    "\n",
    "plt.plot(x,y)\n",
    "\n",
    "plt.annotate('pos 11 (C/T)', xy=(12-5, clf.feature_importances_[12]))\n",
    "plt.annotate('pos 23 (A/T)', xy=(24-5, clf.feature_importances_[24]))\n",
    "plt.annotate('pos 38 (A/G)', xy=(40-5, clf.feature_importances_[41]))\n",
    "plt.annotate('pos 41 (C/T)', xy=(44-5, -0.01))\n",
    "plt.annotate('pos 44 (C/T)', xy=(48-5, clf.feature_importances_[48]))\n",
    "plt.annotate('pos 50 (A/G)', xy=(55-5, clf.feature_importances_[55]))\n",
    "plt.annotate('pos 53 (C/T)', xy=(59, clf.feature_importances_[59]))\n",
    "\n",
    "plt.savefig(fname=\"importance_plot\")\n",
    "plt.show()"
   ]
  },
  {
   "cell_type": "markdown",
   "metadata": {},
   "source": [
    "# Fig 1 - Feature Importance\n",
    "Na figura acima, podem ser observadas as posicões genômicas no eixo x, com as respectivas bases, e a importância relativa de cada uma delas."
   ]
  },
  {
   "cell_type": "code",
   "execution_count": 12,
   "metadata": {},
   "outputs": [],
   "source": [
    "col = X.columns\n",
    "values = np.array([clf.feature_importances_])\n",
    "\n",
    "importance = pd.DataFrame(values, columns=col)\n"
   ]
  },
  {
   "cell_type": "code",
   "execution_count": 13,
   "metadata": {},
   "outputs": [],
   "source": [
    "max_imp = importance.values[0].max()\n",
    "max_pos = importance.idxmax(axis=1)"
   ]
  },
  {
   "cell_type": "markdown",
   "metadata": {},
   "source": [
    "## Posição mais importante\n",
    "Pode ser observado abaixo a posição com maior importância, assim como todas as outras identificadas no procedimento."
   ]
  },
  {
   "cell_type": "code",
   "execution_count": 14,
   "metadata": {},
   "outputs": [
    {
     "name": "stdout",
     "output_type": "stream",
     "text": [
      "The position with highest importance is 44_c\n"
     ]
    }
   ],
   "source": [
    "print('The position with highest importance is {0}'.format(max_pos[0]))"
   ]
  },
  {
   "cell_type": "code",
   "execution_count": 15,
   "metadata": {},
   "outputs": [
    {
     "name": "stdout",
     "output_type": "stream",
     "text": [
      "Base 11_c has importance 0.022294692235868708.\n",
      "\n",
      "Base 11_t has importance 0.031353485838779956.\n",
      "\n",
      "Base 23_a has importance 0.10647058823529414.\n",
      "\n",
      "Base 23_t has importance 0.1.\n",
      "\n",
      "Base 38_a has importance 0.043076923076923075.\n",
      "\n",
      "Base 38_g has importance 0.09.\n",
      "\n",
      "Base 41_c has importance 0.00916005291005291.\n",
      "\n",
      "Base 41_t has importance 0.008598699095022625.\n",
      "\n",
      "Base 44_c has importance 0.13051686507936508.\n",
      "\n",
      "Base 44_t has importance 0.10754901960784313.\n",
      "\n",
      "Base 50_a has importance 0.11097967392085041.\n",
      "\n",
      "Base 50_g has importance 0.06.\n",
      "\n",
      "Base 53_c has importance 0.1.\n",
      "\n",
      "Base 53_t has importance 0.08.\n",
      "\n"
     ]
    }
   ],
   "source": [
    "for base in importance:\n",
    "    if importance[base].values[0] > 0:\n",
    "        print('Base {0} has importance {1}.\\n'.format(base, importance[base].values[0]))"
   ]
  },
  {
   "cell_type": "code",
   "execution_count": null,
   "metadata": {},
   "outputs": [],
   "source": []
  }
 ],
 "metadata": {
  "kernelspec": {
   "display_name": "Python 3",
   "language": "python",
   "name": "python3"
  },
  "language_info": {
   "codemirror_mode": {
    "name": "ipython",
    "version": 3
   },
   "file_extension": ".py",
   "mimetype": "text/x-python",
   "name": "python",
   "nbconvert_exporter": "python",
   "pygments_lexer": "ipython3",
   "version": "3.7.2"
  }
 },
 "nbformat": 4,
 "nbformat_minor": 2
}
