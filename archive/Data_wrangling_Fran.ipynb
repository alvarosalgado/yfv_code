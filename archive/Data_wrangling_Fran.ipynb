{
 "cells": [
  {
   "cell_type": "code",
   "execution_count": 53,
   "metadata": {},
   "outputs": [],
   "source": [
    "%matplotlib inline\n",
    "\n",
    "from Bio.Seq import Seq\n",
    "from Bio import SeqIO\n",
    "from Bio.Alphabet import IUPAC\n",
    "import pandas as pd\n",
    "import numpy as np\n",
    "import matplotlib.pyplot as plt\n",
    "import seaborn as sns; sns.set()\n",
    "from sklearn.ensemble import RandomForestClassifier"
   ]
  },
  {
   "cell_type": "code",
   "execution_count": 54,
   "metadata": {},
   "outputs": [],
   "source": [
    "pd.set_option('display.max_rows', 500)"
   ]
  },
  {
   "cell_type": "markdown",
   "metadata": {},
   "source": [
    "# Importar dados\n",
    "Importa os dados dos arquivos \".fasta\" e coloca em `pd.DataFrame`.\n",
    "\n",
    "Cada fasta contém sequências de ZIKV originárias de uma região geográfica:\n",
    "\n",
    "- Africa\n",
    "- Asia\n",
    "- Oceania (incl. French Polynesia and Micronesia)\n",
    "- Americas (south and north plus Europe)\n",
    "\n",
    "Cada linha é uma amostra sequenciada.\n",
    "\n",
    "Cada coluna (atributo) é uma posição na sequência genética com sua respectica base (acgt)."
   ]
  },
  {
   "cell_type": "code",
   "execution_count": 55,
   "metadata": {},
   "outputs": [],
   "source": [
    "africa_fasta = '../DATA/!CLEAN/AFRICA_clear_v2_curated_Trimmed_Aligned_Z1_Z2_NCBI.fas'\n",
    "asia_fasta = '../DATA/!CLEAN/ASIA_clear_v2_curated_Trimmed_Aligned_Z1_Z2_NCBI.fas'\n",
    "oceania_fasta = '../DATA/!CLEAN/OCEANIA_clear_v2_curated_Trimmed_Aligned_Z1_Z2_NCBI.fas'\n",
    "americas_fasta = '../DATA/!CLEAN/AMERICAS_clear_v2_curated_Trimmed_Aligned_Z1_Z2_NCBI.fas'\n",
    "original_fasta = '../DATA/!CLEAN/clear_v2_curated_Trimmed_Aligned_Z1_Z2_NCBI.fas'\n"
   ]
  },
  {
   "cell_type": "code",
   "execution_count": 56,
   "metadata": {},
   "outputs": [],
   "source": [
    "# Gets the sequences IDs\n",
    "identifiers_africa = [seq_record.id for seq_record in SeqIO.parse(africa_fasta, \"fasta\")]\n",
    "# Gets the sequences nucleotides\n",
    "seqs_africa = np.array([list(str(seq_rec.seq)) for seq_rec in SeqIO.parse(africa_fasta, \"fasta\")])\n",
    "# Creates columns names based on position, starting from 1, to make it easier to analyse results\n",
    "cols = list(range(1, seqs_africa.shape[1]+1))\n",
    "\n",
    "# Creates dataframe with data\n",
    "df_africa = pd.DataFrame(seqs_africa, index=identifiers_africa, columns=cols)\n",
    "#df_africa.head()"
   ]
  },
  {
   "cell_type": "code",
   "execution_count": 57,
   "metadata": {},
   "outputs": [],
   "source": [
    "# Gets the sequences IDs\n",
    "identifiers_asia = [seq_record.id for seq_record in SeqIO.parse(asia_fasta, \"fasta\")]\n",
    "# Gets the sequences nucleotides\n",
    "seqs_asia = np.array([list(str(seq_rec.seq)) for seq_rec in SeqIO.parse(asia_fasta, \"fasta\")])\n",
    "# Creates columns names based on position, starting from 1, to make it easier to analyse results\n",
    "cols = list(range(1, seqs_asia.shape[1]+1))\n",
    "\n",
    "# Creates dataframe with data\n",
    "df_asia = pd.DataFrame(seqs_asia, index=identifiers_asia, columns=cols)\n",
    "#df_asia.head()"
   ]
  },
  {
   "cell_type": "code",
   "execution_count": 58,
   "metadata": {},
   "outputs": [],
   "source": [
    "# Gets the sequences IDs\n",
    "identifiers_oceania = [seq_record.id for seq_record in SeqIO.parse(oceania_fasta, \"fasta\")]\n",
    "# Gets the sequences nucleotides\n",
    "seqs_oceania = np.array([list(str(seq_rec.seq)) for seq_rec in SeqIO.parse(oceania_fasta, \"fasta\")])\n",
    "# Creates columns names based on position, starting from 1, to make it easier to analyse results\n",
    "cols = list(range(1, seqs_oceania.shape[1]+1))\n",
    "\n",
    "# Creates dataframe with data\n",
    "df_oceania = pd.DataFrame(seqs_oceania, index=identifiers_oceania, columns=cols)\n",
    "#df_oceania.head()"
   ]
  },
  {
   "cell_type": "code",
   "execution_count": 59,
   "metadata": {},
   "outputs": [],
   "source": [
    "# Gets the sequences IDs\n",
    "identifiers_americas = [seq_record.id for seq_record in SeqIO.parse(americas_fasta, \"fasta\")]\n",
    "# Gets the sequences nucleotides\n",
    "seqs_americas = np.array([list(str(seq_rec.seq)) for seq_rec in SeqIO.parse(americas_fasta, \"fasta\")])\n",
    "# Creates columns names based on position, starting from 1, to make it easier to analyse results\n",
    "cols = list(range(1, seqs_americas.shape[1]+1))\n",
    "\n",
    "# Creates dataframe with data\n",
    "df_americas = pd.DataFrame(seqs_americas, index=identifiers_americas, columns=cols)\n",
    "#df_americas.head()"
   ]
  },
  {
   "cell_type": "code",
   "execution_count": 60,
   "metadata": {},
   "outputs": [],
   "source": [
    "# Gets the sequences IDs\n",
    "identifiers_original = [seq_record.id for seq_record in SeqIO.parse(original_fasta, \"fasta\")]\n",
    "# Gets the sequences nucleotides\n",
    "seqs_original = np.array([list(str(seq_rec.seq)) for seq_rec in SeqIO.parse(original_fasta, \"fasta\")])\n",
    "# Creates columns names based on position, starting from 1, to make it easier to analyse results\n",
    "cols = list(range(1, seqs_original.shape[1]+1))\n",
    "\n",
    "# Creates dataframe with data\n",
    "df_original = pd.DataFrame(seqs_original, index=identifiers_original, columns=cols)\n",
    "#df_original"
   ]
  },
  {
   "cell_type": "markdown",
   "metadata": {},
   "source": [
    "# Vetor de \"classes\"\n",
    "Anotar os dataframes acima, inserindo uma coluna 'class' contendo 0 ou 1.\n",
    "\n",
    "Isso dá a flexibilidade de realizar diversas análises com esse dataset, bastando para isso mudar as classes."
   ]
  },
  {
   "cell_type": "code",
   "execution_count": 61,
   "metadata": {},
   "outputs": [],
   "source": [
    "df_americas['class'] = np.ones(len(df_americas))\n",
    "# df_americas.head()"
   ]
  },
  {
   "cell_type": "code",
   "execution_count": 62,
   "metadata": {},
   "outputs": [],
   "source": [
    "df_oceania['class'] = np.ones(len(df_oceania))\n",
    "#df_oceania.tail()"
   ]
  },
  {
   "cell_type": "code",
   "execution_count": 63,
   "metadata": {},
   "outputs": [],
   "source": [
    "df_asia['class'] = np.zeros(len(df_asia))\n",
    "#df_asia.tail()"
   ]
  },
  {
   "cell_type": "code",
   "execution_count": 64,
   "metadata": {},
   "outputs": [],
   "source": [
    "df_africa['class'] = np.zeros(len(df_africa))\n",
    "#df_africa.tail()"
   ]
  },
  {
   "cell_type": "markdown",
   "metadata": {},
   "source": [
    "# Criação do dataset para análise\n",
    "\n",
    "Nesse ponto, juntamos os dataframes que serão utilizados na análise em um só dataframe."
   ]
  },
  {
   "cell_type": "code",
   "execution_count": 65,
   "metadata": {},
   "outputs": [],
   "source": [
    "df_1 = df_americas.append(df_oceania)\n",
    "df_1 = df_1.append(df_asia)\n",
    "df_1 = df_1.append(df_africa)\n",
    "\n",
    "df_2 = df_original"
   ]
  },
  {
   "cell_type": "code",
   "execution_count": 66,
   "metadata": {},
   "outputs": [],
   "source": [
    "#df_1"
   ]
  },
  {
   "cell_type": "code",
   "execution_count": 67,
   "metadata": {},
   "outputs": [],
   "source": [
    "#df_2"
   ]
  },
  {
   "cell_type": "markdown",
   "metadata": {},
   "source": [
    "# One-Hot Encoding\n",
    "Aplicar o \"one-hot encoding\" para tratar os dados.\n",
    "\n",
    "Como os dados genômicos são categóricos (ACGT), devem ser preparados de forma que fiquem adequados ao algoritmo de machine learning.\n",
    "\n",
    "O método abaixo `pd.get_dummies(df)` transforma cada coluna com atributos categóricos (com \"c\" categorias, no nosso caso 4 categorias, ACGT) em \"c\" colunas contendo 0 em todas posições, exceto na posição correspondente ao valor presente naquele atributo.\n",
    "\n",
    "Assim:\n",
    "\n",
    "|sample|base1|base2|\n",
    "|------|-----|-----|\n",
    "|s_1   |A    |T    |\n",
    "|s_2   |A    |G    |\n",
    "|s_3   |C    |T    |\n",
    "\n",
    "Se tornaria:\n",
    "\n",
    "|sample|base1_A|base1_C|base1_G|base1_T|base2_A|base2_C|base2_G|base2_T|\n",
    "|------|-------|-------|-------|-------|-------|-------|-------|-------|\n",
    "|s_1   |1      |0      |0      |0      |0      |0      |0      |1      |\n",
    "|s_2   |1      |0      |0      |0      |0      |0      |1      |0      |\n",
    "|s_3   |0      |1      |0      |0      |0      |0      |0      |1      |"
   ]
  },
  {
   "cell_type": "code",
   "execution_count": 68,
   "metadata": {},
   "outputs": [],
   "source": [
    "df_ohe_1 = pd.get_dummies(df_1)"
   ]
  },
  {
   "cell_type": "code",
   "execution_count": 69,
   "metadata": {},
   "outputs": [],
   "source": [
    "df_ohe_2 = pd.get_dummies(df_2)"
   ]
  },
  {
   "cell_type": "code",
   "execution_count": 70,
   "metadata": {},
   "outputs": [],
   "source": [
    "index_1 = df_ohe_1.index\n",
    "#index_1"
   ]
  },
  {
   "cell_type": "code",
   "execution_count": 71,
   "metadata": {},
   "outputs": [],
   "source": [
    "index_2 = df_ohe_2.index\n",
    "#print(index_2)"
   ]
  },
  {
   "cell_type": "code",
   "execution_count": 72,
   "metadata": {},
   "outputs": [],
   "source": [
    "classes = df_ohe_1[\"class\"]\n",
    "#classes"
   ]
  },
  {
   "cell_type": "code",
   "execution_count": 73,
   "metadata": {},
   "outputs": [],
   "source": [
    "df_ohe_1 = df_ohe_1.drop('class', axis=1)"
   ]
  },
  {
   "cell_type": "code",
   "execution_count": 74,
   "metadata": {},
   "outputs": [],
   "source": [
    "values_1 = df_ohe_1.values.astype(int)\n",
    "values_2 = df_ohe_2.values.astype(int)\n",
    "#values_1"
   ]
  },
  {
   "cell_type": "code",
   "execution_count": 75,
   "metadata": {},
   "outputs": [],
   "source": [
    "#df_ohe_1.to_csv('matriz_1.csv')"
   ]
  },
  {
   "cell_type": "code",
   "execution_count": 76,
   "metadata": {},
   "outputs": [],
   "source": [
    "#df_ohe_2.to_csv('matriz_2.csv')"
   ]
  },
  {
   "cell_type": "code",
   "execution_count": 77,
   "metadata": {},
   "outputs": [],
   "source": [
    "list_index_1 = np.array(list(index_1))\n",
    "list_index_1 = list_index_1.T\n",
    "df_index_1 = pd.DataFrame(list_index_1)\n",
    "values_3 = df_index_1.values"
   ]
  },
  {
   "cell_type": "code",
   "execution_count": 78,
   "metadata": {},
   "outputs": [],
   "source": [
    "list_index_2 = np.array(list(index_2))\n",
    "list_index_2 = list_index_2.T\n",
    "df_index_2 = pd.DataFrame(list_index_2)\n",
    "values_4 = df_index_2.values"
   ]
  },
  {
   "cell_type": "code",
   "execution_count": 79,
   "metadata": {},
   "outputs": [],
   "source": [
    "classes = np.array(list(classes))\n",
    "classes = classes.T\n",
    "df_classes = pd.DataFrame(classes)\n",
    "val_classes = df_classes.values.astype(int)"
   ]
  },
  {
   "cell_type": "code",
   "execution_count": 80,
   "metadata": {},
   "outputs": [],
   "source": [
    "df_index_1.to_csv('matriz_3.csv')\n",
    "df_index_2.to_csv('matriz_4.csv')\n"
   ]
  },
  {
   "cell_type": "code",
   "execution_count": 81,
   "metadata": {},
   "outputs": [],
   "source": [
    "np.savetxt(\"matriz_1.csv\", values_1, delimiter=\" \", fmt='%1i')\n",
    "np.savetxt(\"matriz_2.csv\", values_2, delimiter=\" \", fmt='%1i')\n",
    "#np.savetxt(\"matriz_3.csv\", values_3, delimiter=\" \")\n",
    "#np.savetxt(\"matriz_4.csv\", values_4, delimiter=\" \")\n",
    "np.savetxt(\"matriz_5.csv\", val_classes, delimiter=\" \", fmt='%1i')"
   ]
  },
  {
   "cell_type": "code",
   "execution_count": null,
   "metadata": {},
   "outputs": [],
   "source": []
  }
 ],
 "metadata": {
  "kernelspec": {
   "display_name": "Python 3",
   "language": "python",
   "name": "python3"
  },
  "language_info": {
   "codemirror_mode": {
    "name": "ipython",
    "version": 3
   },
   "file_extension": ".py",
   "mimetype": "text/x-python",
   "name": "python",
   "nbconvert_exporter": "python",
   "pygments_lexer": "ipython3",
   "version": "3.7.2"
  }
 },
 "nbformat": 4,
 "nbformat_minor": 2
}
