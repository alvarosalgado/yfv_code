{
  "cells": [
    {
      "cell_type": "code",
      "source": [
        "%matplotlib inline\n",
        "\n",
        "from Bio.Seq import Seq\n",
        "from Bio import SeqIO\n",
        "from Bio.Alphabet import IUPAC\n",
        "\n",
        "import pandas as pd\n",
        "import numpy as np\n",
        "import matplotlib.pyplot as plt\n",
        "import seaborn as sns; sns.set()\n",
        "from sklearn.ensemble import RandomForestClassifier\n",
        "\n",
        "import shap"
      ],
      "outputs": [],
      "execution_count": 1,
      "metadata": {}
    },
    {
      "cell_type": "code",
      "source": [
        "import xgboost as xgb"
      ],
      "outputs": [],
      "execution_count": 2,
      "metadata": {}
    },
    {
      "cell_type": "code",
      "source": [
        "print(xgb.__version__)\n",
        "print(shap.__version__)"
      ],
      "outputs": [
        {
          "output_type": "stream",
          "name": "stdout",
          "text": [
            "0.82\n",
            "0.28.5\n"
          ]
        }
      ],
      "execution_count": 3,
      "metadata": {}
    },
    {
      "cell_type": "code",
      "source": [
        "file_1 = '../DATA/!CLEAN/2019-01-30_ZIBRA2_YFV-RIO-Diferentes_CTs'\n",
        "\n",
        "file_2 = '../DATA/!CLEAN/NHP_65_outbreak'\n",
        "\n",
        "file_3 = '../DATA/!CLEAN/2018-01_Salvador'\n",
        "\n",
        "file_4 = '../DATA/!CLEAN/2018-03-04_LACEN_Bahia'\n",
        "\n",
        "file_5 = '../DATA/!CLEAN/FUNED_AGOSTO-2018'\n",
        "\n",
        "file_6 = '../DATA/!CLEAN/RIO_DE_JANEIRO'\n",
        "\n",
        "file_7 = '../DATA/!CLEAN/YFV_LACEN_BAHIA'"
      ],
      "outputs": [],
      "execution_count": 4,
      "metadata": {}
    },
    {
      "cell_type": "code",
      "source": [
        "file_list = [file_1,\n",
        "            file_2,\n",
        "            file_3,\n",
        "            file_4,\n",
        "            file_5,\n",
        "            file_6,\n",
        "            file_7]\n",
        "seq_list = []\n",
        "metadata_list = []"
      ],
      "outputs": [],
      "execution_count": 5,
      "metadata": {}
    },
    {
      "cell_type": "code",
      "source": [
        "for file in file_list:\n",
        "    seq_file = file + '.aln'\n",
        "    metadata_file = file + '.xlsx'\n",
        "    \n",
        "    seq_list.append(seq_file)\n",
        "    metadata_list.append(metadata_file)"
      ],
      "outputs": [],
      "execution_count": 6,
      "metadata": {}
    },
    {
      "cell_type": "code",
      "source": [
        "def read_metadata(excel_file):\n",
        "    metadata_df = pd.read_excel(excel_file, index_col='index', dtype = {'Ct': np.float64})\n",
        "    metadata_df = metadata_df[['Host', 'Date', 'Ct']]\n",
        "    return metadata_df"
      ],
      "outputs": [],
      "execution_count": 7,
      "metadata": {}
    },
    {
      "cell_type": "code",
      "source": [
        "metadata_df = read_metadata(metadata_list[2])"
      ],
      "outputs": [],
      "execution_count": 8,
      "metadata": {}
    },
    {
      "cell_type": "code",
      "source": [
        "print(metadata_df)"
      ],
      "outputs": [
        {
          "output_type": "stream",
          "name": "stdout",
          "text": [
            "             Host                 Date      Ct\n",
            "index                                         \n",
            "SA1    Callithrix           29.11.2017  32.000\n",
            "SA2      Allouata           28.11.2017  13.000\n",
            "SA3      Allouata           28.11.2017  11.000\n",
            "SA4      Allouata           15.12.2017   9.190\n",
            "SA5      Allouata           15.12.2017  16.640\n",
            "SA6      Allouata           22.12.2017   7.535\n",
            "SA7      Allouata           22.12.2017  16.500\n",
            "SA46      Cebidae  2017-12-26 00:00:00  10.770\n",
            "SA48   Callithrix  2017-12-18 00:00:00  13.850\n",
            "SA54     Allouata  2018-01-05 00:00:00  14.060\n",
            "SA56      Cebidae  2017-12-30 00:00:00  11.230\n",
            "SA58   Callithrix  2018-01-04 00:00:00  14.150\n",
            "SA60     Allouata  2018-01-06 00:00:00  14.150\n",
            "SA62      Cebidae  2018-01-01 00:00:00  16.320\n",
            "SA63      Cebidae  2018-01-05 00:00:00  11.570\n",
            "SA64   Callithrix  2018-01-02 00:00:00  12.750\n",
            "SA66   Callithrix  2018-01-08 00:00:00  15.010\n",
            "SA67     Allouata  2018-01-02 00:00:00  11.410\n",
            "SA68   Callithrix  2018-01-04 00:00:00  13.580\n",
            "SA129    Allouata  2018-01-02 00:00:00  18.000\n",
            "SA131    Allouata  2018-01-10 00:00:00  12.000\n"
          ]
        }
      ],
      "execution_count": 10,
      "metadata": {}
    },
    {
      "cell_type": "code",
      "source": [
        "pd.to_datetime(metadata_df['Date'])"
      ],
      "outputs": [
        {
          "output_type": "execute_result",
          "execution_count": 11,
          "data": {
            "text/plain": [
              "index\n",
              "SA1     2017-11-29\n",
              "SA2     2017-11-28\n",
              "SA3     2017-11-28\n",
              "SA4     2017-12-15\n",
              "SA5     2017-12-15\n",
              "SA6     2017-12-22\n",
              "SA7     2017-12-22\n",
              "SA46    2017-12-26\n",
              "SA48    2017-12-18\n",
              "SA54    2018-01-05\n",
              "SA56    2017-12-30\n",
              "SA58    2018-01-04\n",
              "SA60    2018-01-06\n",
              "SA62    2018-01-01\n",
              "SA63    2018-01-05\n",
              "SA64    2018-01-02\n",
              "SA66    2018-01-08\n",
              "SA67    2018-01-02\n",
              "SA68    2018-01-04\n",
              "SA129   2018-01-02\n",
              "SA131   2018-01-10\n",
              "Name: Date, dtype: datetime64[ns]"
            ]
          },
          "metadata": {}
        }
      ],
      "execution_count": 11,
      "metadata": {}
    },
    {
      "cell_type": "code",
      "source": [
        "metadata_df['Date'] = pd.to_datetime(metadata_df['Date'])"
      ],
      "outputs": [],
      "execution_count": 12,
      "metadata": {}
    },
    {
      "cell_type": "code",
      "source": [
        "metadata_df"
      ],
      "outputs": [
        {
          "output_type": "execute_result",
          "execution_count": 13,
          "data": {
            "text/plain": [
              "             Host       Date      Ct\n",
              "index                               \n",
              "SA1    Callithrix 2017-11-29  32.000\n",
              "SA2      Allouata 2017-11-28  13.000\n",
              "SA3      Allouata 2017-11-28  11.000\n",
              "SA4      Allouata 2017-12-15   9.190\n",
              "SA5      Allouata 2017-12-15  16.640\n",
              "SA6      Allouata 2017-12-22   7.535\n",
              "SA7      Allouata 2017-12-22  16.500\n",
              "SA46      Cebidae 2017-12-26  10.770\n",
              "SA48   Callithrix 2017-12-18  13.850\n",
              "SA54     Allouata 2018-01-05  14.060\n",
              "SA56      Cebidae 2017-12-30  11.230\n",
              "SA58   Callithrix 2018-01-04  14.150\n",
              "SA60     Allouata 2018-01-06  14.150\n",
              "SA62      Cebidae 2018-01-01  16.320\n",
              "SA63      Cebidae 2018-01-05  11.570\n",
              "SA64   Callithrix 2018-01-02  12.750\n",
              "SA66   Callithrix 2018-01-08  15.010\n",
              "SA67     Allouata 2018-01-02  11.410\n",
              "SA68   Callithrix 2018-01-04  13.580\n",
              "SA129    Allouata 2018-01-02  18.000\n",
              "SA131    Allouata 2018-01-10  12.000"
            ],
            "text/html": [
              "<div>\n",
              "<style scoped>\n",
              "    .dataframe tbody tr th:only-of-type {\n",
              "        vertical-align: middle;\n",
              "    }\n",
              "\n",
              "    .dataframe tbody tr th {\n",
              "        vertical-align: top;\n",
              "    }\n",
              "\n",
              "    .dataframe thead th {\n",
              "        text-align: right;\n",
              "    }\n",
              "</style>\n",
              "<table border=\"1\" class=\"dataframe\">\n",
              "  <thead>\n",
              "    <tr style=\"text-align: right;\">\n",
              "      <th></th>\n",
              "      <th>Host</th>\n",
              "      <th>Date</th>\n",
              "      <th>Ct</th>\n",
              "    </tr>\n",
              "    <tr>\n",
              "      <th>index</th>\n",
              "      <th></th>\n",
              "      <th></th>\n",
              "      <th></th>\n",
              "    </tr>\n",
              "  </thead>\n",
              "  <tbody>\n",
              "    <tr>\n",
              "      <th>SA1</th>\n",
              "      <td>Callithrix</td>\n",
              "      <td>2017-11-29</td>\n",
              "      <td>32.000</td>\n",
              "    </tr>\n",
              "    <tr>\n",
              "      <th>SA2</th>\n",
              "      <td>Allouata</td>\n",
              "      <td>2017-11-28</td>\n",
              "      <td>13.000</td>\n",
              "    </tr>\n",
              "    <tr>\n",
              "      <th>SA3</th>\n",
              "      <td>Allouata</td>\n",
              "      <td>2017-11-28</td>\n",
              "      <td>11.000</td>\n",
              "    </tr>\n",
              "    <tr>\n",
              "      <th>SA4</th>\n",
              "      <td>Allouata</td>\n",
              "      <td>2017-12-15</td>\n",
              "      <td>9.190</td>\n",
              "    </tr>\n",
              "    <tr>\n",
              "      <th>SA5</th>\n",
              "      <td>Allouata</td>\n",
              "      <td>2017-12-15</td>\n",
              "      <td>16.640</td>\n",
              "    </tr>\n",
              "    <tr>\n",
              "      <th>SA6</th>\n",
              "      <td>Allouata</td>\n",
              "      <td>2017-12-22</td>\n",
              "      <td>7.535</td>\n",
              "    </tr>\n",
              "    <tr>\n",
              "      <th>SA7</th>\n",
              "      <td>Allouata</td>\n",
              "      <td>2017-12-22</td>\n",
              "      <td>16.500</td>\n",
              "    </tr>\n",
              "    <tr>\n",
              "      <th>SA46</th>\n",
              "      <td>Cebidae</td>\n",
              "      <td>2017-12-26</td>\n",
              "      <td>10.770</td>\n",
              "    </tr>\n",
              "    <tr>\n",
              "      <th>SA48</th>\n",
              "      <td>Callithrix</td>\n",
              "      <td>2017-12-18</td>\n",
              "      <td>13.850</td>\n",
              "    </tr>\n",
              "    <tr>\n",
              "      <th>SA54</th>\n",
              "      <td>Allouata</td>\n",
              "      <td>2018-01-05</td>\n",
              "      <td>14.060</td>\n",
              "    </tr>\n",
              "    <tr>\n",
              "      <th>SA56</th>\n",
              "      <td>Cebidae</td>\n",
              "      <td>2017-12-30</td>\n",
              "      <td>11.230</td>\n",
              "    </tr>\n",
              "    <tr>\n",
              "      <th>SA58</th>\n",
              "      <td>Callithrix</td>\n",
              "      <td>2018-01-04</td>\n",
              "      <td>14.150</td>\n",
              "    </tr>\n",
              "    <tr>\n",
              "      <th>SA60</th>\n",
              "      <td>Allouata</td>\n",
              "      <td>2018-01-06</td>\n",
              "      <td>14.150</td>\n",
              "    </tr>\n",
              "    <tr>\n",
              "      <th>SA62</th>\n",
              "      <td>Cebidae</td>\n",
              "      <td>2018-01-01</td>\n",
              "      <td>16.320</td>\n",
              "    </tr>\n",
              "    <tr>\n",
              "      <th>SA63</th>\n",
              "      <td>Cebidae</td>\n",
              "      <td>2018-01-05</td>\n",
              "      <td>11.570</td>\n",
              "    </tr>\n",
              "    <tr>\n",
              "      <th>SA64</th>\n",
              "      <td>Callithrix</td>\n",
              "      <td>2018-01-02</td>\n",
              "      <td>12.750</td>\n",
              "    </tr>\n",
              "    <tr>\n",
              "      <th>SA66</th>\n",
              "      <td>Callithrix</td>\n",
              "      <td>2018-01-08</td>\n",
              "      <td>15.010</td>\n",
              "    </tr>\n",
              "    <tr>\n",
              "      <th>SA67</th>\n",
              "      <td>Allouata</td>\n",
              "      <td>2018-01-02</td>\n",
              "      <td>11.410</td>\n",
              "    </tr>\n",
              "    <tr>\n",
              "      <th>SA68</th>\n",
              "      <td>Callithrix</td>\n",
              "      <td>2018-01-04</td>\n",
              "      <td>13.580</td>\n",
              "    </tr>\n",
              "    <tr>\n",
              "      <th>SA129</th>\n",
              "      <td>Allouata</td>\n",
              "      <td>2018-01-02</td>\n",
              "      <td>18.000</td>\n",
              "    </tr>\n",
              "    <tr>\n",
              "      <th>SA131</th>\n",
              "      <td>Allouata</td>\n",
              "      <td>2018-01-10</td>\n",
              "      <td>12.000</td>\n",
              "    </tr>\n",
              "  </tbody>\n",
              "</table>\n",
              "</div>"
            ]
          },
          "metadata": {}
        }
      ],
      "execution_count": 13,
      "metadata": {}
    },
    {
      "cell_type": "code",
      "source": [
        "from __future__ import print_function\n",
        "from ipywidgets import interact, interactive, fixed, interact_manual\n",
        "import ipywidgets as widgets"
      ],
      "outputs": [],
      "execution_count": 14,
      "metadata": {}
    },
    {
      "cell_type": "code",
      "source": [
        "def func_plot(k=1):\n",
        "    x = np.linspace(-2, 2, 200)\n",
        "    plt.plot(x, np.sin(2*np.pi*k*x))"
      ],
      "outputs": [],
      "execution_count": 15,
      "metadata": {}
    },
    {
      "cell_type": "code",
      "source": [
        "interact(func_plot, k=(1, 10))"
      ],
      "outputs": [
        {
          "output_type": "display_data",
          "data": {
            "text/plain": [
              "<Figure size 432x288 with 1 Axes>"
            ],
            "image/png": "[encoded data removed]"
          },
          "metadata": {
            "needs_background": "light"
          }
        },
        {
          "output_type": "execute_result",
          "execution_count": 17,
          "data": {
            "text/plain": [
              "<function __main__.func_plot(k=1)>"
            ]
          },
          "metadata": {}
        }
      ],
      "execution_count": null,
      "metadata": {
        "inputHidden": false,
        "outputHidden": false,
        "outputExpanded": true,
        "tags": []
      }
    },
    {
      "cell_type": "markdown",
      "source": [
        "# title"
      ],
      "metadata": {}
    },
    {
      "cell_type": "markdown",
      "source": [],
      "metadata": {}
    },
    {
      "cell_type": "code",
      "source": [],
      "outputs": [],
      "execution_count": null,
      "metadata": {
        "collapsed": false,
        "outputHidden": false,
        "inputHidden": false
      }
    },
    {
      "cell_type": "code",
      "source": [],
      "outputs": [],
      "execution_count": null,
      "metadata": {
        "collapsed": false,
        "outputHidden": false,
        "inputHidden": false
      }
    },
    {
      "cell_type": "code",
      "source": [],
      "outputs": [],
      "execution_count": null,
      "metadata": {
        "collapsed": false,
        "outputHidden": false,
        "inputHidden": false
      }
    },
    {
      "cell_type": "code",
      "source": [],
      "outputs": [],
      "execution_count": null,
      "metadata": {
        "collapsed": false,
        "outputHidden": false,
        "inputHidden": false
      }
    }
  ],
  "metadata": {
    "kernelspec": {
      "name": "python3",
      "language": "python",
      "display_name": "Python 3"
    },
    "language_info": {
      "name": "python",
      "version": "3.7.2",
      "mimetype": "text/x-python",
      "codemirror_mode": {
        "name": "ipython",
        "version": 3
      },
      "pygments_lexer": "ipython3",
      "nbconvert_exporter": "python",
      "file_extension": ".py"
    },
    "varInspector": {
      "cols": {
        "lenName": 16,
        "lenType": 16,
        "lenVar": 40
      },
      "kernels_config": {
        "python": {
          "delete_cmd_postfix": "",
          "delete_cmd_prefix": "del ",
          "library": "var_list.py",
          "varRefreshCmd": "print(var_dic_list())"
        },
        "r": {
          "delete_cmd_postfix": ") ",
          "delete_cmd_prefix": "rm(",
          "library": "var_list.r",
          "varRefreshCmd": "cat(var_dic_list()) "
        }
      },
      "types_to_exclude": [
        "module",
        "function",
        "builtin_function_or_method",
        "instance",
        "_Feature"
      ],
      "window_display": false
    },
    "kernel_info": {
      "name": "python3"
    },
    "nteract": {
      "version": "0.14.2"
    }
  },
  "nbformat": 4,
  "nbformat_minor": 2
}